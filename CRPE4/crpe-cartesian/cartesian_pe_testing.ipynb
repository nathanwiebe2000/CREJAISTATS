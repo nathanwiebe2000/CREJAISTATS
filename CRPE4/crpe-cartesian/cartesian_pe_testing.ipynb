{
 "cells": [
  {
   "cell_type": "code",
   "execution_count": 1,
   "metadata": {
    "collapsed": true
   },
   "outputs": [],
   "source": [
    "from __future__ import division\n",
    "%matplotlib inline"
   ]
  },
  {
   "cell_type": "code",
   "execution_count": 2,
   "metadata": {
    "collapsed": true
   },
   "outputs": [],
   "source": [
    "import numpy as np\n",
    "import qinfer as qi"
   ]
  },
  {
   "cell_type": "code",
   "execution_count": 3,
   "metadata": {
    "collapsed": true
   },
   "outputs": [],
   "source": [
    "from functools import partial"
   ]
  },
  {
   "cell_type": "code",
   "execution_count": 4,
   "metadata": {
    "collapsed": true
   },
   "outputs": [],
   "source": [
    "import matplotlib.style\n",
    "matplotlib.style.use('ggplot')\n",
    "import matplotlib.pyplot as plt"
   ]
  },
  {
   "cell_type": "code",
   "execution_count": 5,
   "metadata": {
    "collapsed": true
   },
   "outputs": [],
   "source": [
    "class CartesianPhaseEstimationModel(qi.Model):\n",
    "    @property\n",
    "    def n_modelparams(self): return 2\n",
    "    @property\n",
    "    def modelparam_names(self): return [\"x\", \"y\"]\n",
    "    @property\n",
    "    def is_n_outcomes_constant(self): return True\n",
    "    @property\n",
    "    def expparams_dtype(self): return [\n",
    "        ('m', int), ('theta', float)\n",
    "    ]\n",
    "    \n",
    "    def n_outcomes(self, expparams): return 2\n",
    "    def are_models_valid(self, modelparams):\n",
    "        return np.ones((modelparams.shape[0], ), dtype=bool)\n",
    "    \n",
    "    def likelihood(self, outcomes, modelparams, expparams):\n",
    "        super(CartesianPhaseEstimationModel, self).likelihood(\n",
    "            outcomes, modelparams, expparams\n",
    "        )\n",
    "        \n",
    "        x, y = (modelparams.T)[..., None]\n",
    "        m    = expparams[None, ...]['m']\n",
    "        th   = expparams[None, ...]['theta']\n",
    "        \n",
    "        pr0 = np.zeros((modelparams.shape[0], expparams.shape[0]))\n",
    "        \n",
    "        pr0[:, :] = (1 + np.cos(m * (np.arctan2(y, x) - th))) / 2\n",
    "        \n",
    "        return qi.Model.pr0_to_likelihood_array(outcomes, pr0)\n",
    "    \n",
    "    def canonicalize(self, modelparams):\n",
    "        return modelparams / np.linalg.norm(modelparams, 2, axis=1)[:, None]"
   ]
  },
  {
   "cell_type": "code",
   "execution_count": 6,
   "metadata": {
    "collapsed": true
   },
   "outputs": [],
   "source": [
    "class UnitCirclePrior(qi.Distribution):\n",
    "    @property\n",
    "    def n_rvs(self): return 2\n",
    "    \n",
    "    def sample(self, n=1):\n",
    "        th = np.random.random((n,)) * 2 * np.pi\n",
    "        return np.array([\n",
    "            np.cos(th), np.sin(th)\n",
    "        ]).T"
   ]
  },
  {
   "cell_type": "code",
   "execution_count": 7,
   "metadata": {
    "collapsed": true
   },
   "outputs": [],
   "source": [
    "PhaseEstimationPGH = partial(qi.PGH,\n",
    "    inv_field='theta',\n",
    "    inv_func=lambda x_: np.arctan2(x_[:, 1], x_[:, 0]),\n",
    "    t_field='m', t_func=np.ceil,\n",
    "    other_fields={'n_meas': 1}\n",
    ")"
   ]
  },
  {
   "cell_type": "code",
   "execution_count": 8,
   "metadata": {
    "collapsed": true
   },
   "outputs": [],
   "source": [
    "prior = UnitCirclePrior()"
   ]
  },
  {
   "cell_type": "code",
   "execution_count": 9,
   "metadata": {
    "collapsed": true
   },
   "outputs": [],
   "source": [
    "model = qi.BinomialModel(CartesianPhaseEstimationModel())"
   ]
  },
  {
   "cell_type": "code",
   "execution_count": 10,
   "metadata": {
    "collapsed": false
   },
   "outputs": [],
   "source": [
    "true_phase = prior.sample()\n",
    "updater = qi.smc.SMCUpdater(model, 1000, prior)\n",
    "heuristic = PhaseEstimationPGH(updater)"
   ]
  },
  {
   "cell_type": "code",
   "execution_count": 11,
   "metadata": {
    "collapsed": false
   },
   "outputs": [],
   "source": [
    "for idx_experiment in xrange(20):\n",
    "    experiment = heuristic()\n",
    "    outcome = model.simulate_experiment(true_phase, experiment)\n",
    "    updater.update(outcome, experiment)"
   ]
  },
  {
   "cell_type": "code",
   "execution_count": 12,
   "metadata": {
    "collapsed": false
   },
   "outputs": [
    {
     "data": {
      "text/plain": [
       "-0.14765645348090708"
      ]
     },
     "execution_count": 12,
     "metadata": {},
     "output_type": "execute_result"
    }
   ],
   "source": [
    "np.arctan2(*reversed(updater.est_mean()))"
   ]
  },
  {
   "cell_type": "code",
   "execution_count": 13,
   "metadata": {
    "collapsed": false
   },
   "outputs": [
    {
     "data": {
      "text/plain": [
       "-0.14970710485802322"
      ]
     },
     "execution_count": 13,
     "metadata": {},
     "output_type": "execute_result"
    }
   ],
   "source": [
    "np.arctan2(*reversed(true_phase[0]))"
   ]
  },
  {
   "cell_type": "code",
   "execution_count": 14,
   "metadata": {
    "collapsed": false
   },
   "outputs": [
    {
     "data": {
      "image/png": "[encoded data removed]",
      "text/plain": [
       "<matplotlib.figure.Figure at 0x7fd5dde38ad0>"
      ]
     },
     "metadata": {},
     "output_type": "display_data"
    }
   ],
   "source": [
    "plt.figure(figsize=(10, 10))\n",
    "plt.scatter(*updater.particle_locations.T,\n",
    "    c=plt.rcParams['axes.color_cycle'][0],\n",
    "    s=1000*np.sqrt(updater.particle_weights)\n",
    ")\n",
    "plt.scatter(true_phase[0, 0], true_phase[0, 1],\n",
    "    c=plt.rcParams['axes.color_cycle'][1],\n",
    "    marker='*',\n",
    "    s=200\n",
    ")\n",
    "plt.xlim(-1.1, 1.1)\n",
    "plt.ylim(-1.1, 1.1)\n",
    "plt.gca().set_aspect('equal')"
   ]
  },
  {
   "cell_type": "code",
   "execution_count": 15,
   "metadata": {
    "collapsed": false
   },
   "outputs": [],
   "source": [
    "particle_phases = np.arctan2(*reversed(updater.particle_locations.T))\n",
    "true_phase_phase = np.arctan2(*reversed(true_phase.T))"
   ]
  },
  {
   "cell_type": "code",
   "execution_count": 16,
   "metadata": {
    "collapsed": false
   },
   "outputs": [
    {
     "data": {
      "image/png": "[encoded data removed]",
      "text/plain": [
       "<matplotlib.figure.Figure at 0x7fd5dde34710>"
      ]
     },
     "metadata": {},
     "output_type": "display_data"
    }
   ],
   "source": [
    "# This is a bloody awful hack to reuse updater.plot_posterior_marginal. Don't do this!\n",
    "old_locs = updater.particle_locations\n",
    "updater.particle_locations = particle_phases[:, None]\n",
    "updater.plot_posterior_marginal(idx_param=0)\n",
    "plt.xlabel(r'$\\phi$')\n",
    "updater.particle_locations = old_locs"
   ]
  }
 ],
 "metadata": {
  "kernelspec": {
   "display_name": "Python 2",
   "language": "python",
   "name": "python2"
  },
  "language_info": {
   "codemirror_mode": {
    "name": "ipython",
    "version": 2
   },
   "file_extension": ".py",
   "mimetype": "text/x-python",
   "name": "python",
   "nbconvert_exporter": "python",
   "pygments_lexer": "ipython2",
   "version": "2.7.9"
  }
 },
 "nbformat": 4,
 "nbformat_minor": 0
}
